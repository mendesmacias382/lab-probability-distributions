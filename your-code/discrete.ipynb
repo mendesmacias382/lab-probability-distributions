{
  "cells": [
    {
      "cell_type": "markdown",
      "metadata": {
        "id": "nh2UJb_6l68w"
      },
      "source": [
        "# Before your start:\n",
        "\n",
        "    Read the README.md file\n",
        "    Comment as much as you can and use the resources (README.md file)\n",
        "    Happy learning!\n",
        "\n",
        "*Notes:*\n",
        "\n",
        "- Solve the questions with python.\n",
        "\n",
        "- Round the final answer to three decimal places."
      ]
    },
    {
      "cell_type": "markdown",
      "metadata": {
        "id": "Lea2RzMYl681"
      },
      "source": [
        "## Bernoulli's Distribution\n",
        "\n",
        "In a basket containing 100 fruits, there are 60 apples and 40 oranges.\n",
        "\n",
        "A fruit is picked randomly from the basket.\n",
        "\n",
        "1. **What is the probability that the fruit is apple?**\n",
        "1. **What is the probability that it is an orange?**"
      ]
    },
    {
      "cell_type": "code",
      "source": [
        "import numpy as np\n",
        "import math\n",
        "import pandas as pd\n",
        "import matplotlib.pyplot as plt\n",
        "\n",
        "from scipy.stats import bernoulli\n",
        "from scipy.stats import binom\n",
        "from scipy.stats import geom\n",
        "from scipy.stats import poisson\n",
        "\n",
        "from scipy.stats import uniform\n",
        "from scipy.stats import expon\n",
        "from scipy.stats import norm"
      ],
      "metadata": {
        "id": "2FwZhDLhmN4O"
      },
      "execution_count": 1,
      "outputs": []
    },
    {
      "cell_type": "code",
      "execution_count": 2,
      "metadata": {
        "colab": {
          "base_uri": "https://localhost:8080/"
        },
        "id": "iZoUBeCul682",
        "outputId": "c023e2dd-0922-4146-a3af-96289a141256"
      },
      "outputs": [
        {
          "output_type": "stream",
          "name": "stdout",
          "text": [
            "Probability of apple 0.6\n",
            "Probability of orange 0.4\n"
          ]
        }
      ],
      "source": [
        "\"\"\"\n",
        "Calculate:\n",
        "p = probability that the fruit is an apple\n",
        "q = probability that the fruit is an orange\n",
        "\"\"\"\n",
        "\n",
        "# your code here\n",
        "\n",
        "\n",
        "n = 1\n",
        "p = 0.6\n",
        "q = 0.4\n",
        "\n",
        "apple = p/n\n",
        "orange = q/n\n",
        "\n",
        "print('Probability of apple', apple)\n",
        "print('Probability of orange', orange)"
      ]
    },
    {
      "cell_type": "markdown",
      "metadata": {
        "id": "fFWBpWD2l684"
      },
      "source": [
        "Now we take a random sample of 20 fruits from the basket. After each fruit is taken, a new fruit of the same type is replaced in the basket. Therefore, every time we are taking 1 fruit from 100 fruits.\n",
        "\n",
        "1. **What is the probability that the first 5 fruits are all apples?**\n",
        "\n",
        "1. **What is the probability that the first 5 fruits are all apples and the next 15 fruits are all oranges?**\n",
        "\n",
        "You can include the `p` and `q` probabilities you previous calculated in your solution."
      ]
    },
    {
      "cell_type": "code",
      "execution_count": 3,
      "metadata": {
        "colab": {
          "base_uri": "https://localhost:8080/"
        },
        "id": "7tmepZ9vl684",
        "outputId": "d47763ca-607d-490e-b191-18f06ac448fb"
      },
      "outputs": [
        {
          "output_type": "stream",
          "name": "stdout",
          "text": [
            "Probability of 5 apples 0.07775999999999998\n",
            "Probability of 5 apples and 15 oranges 8.349416423424006e-08\n"
          ]
        }
      ],
      "source": [
        "# your code here\n",
        "apples = p**5\n",
        "\n",
        "oranges = (p**5) * (q**15)\n",
        "\n",
        "print('Probability of 5 apples', apples)\n",
        "\n",
        "print('Probability of 5 apples and 15 oranges', oranges)"
      ]
    },
    {
      "cell_type": "markdown",
      "metadata": {
        "id": "sXIYzbIil685"
      },
      "source": [
        "## Binomial Distribution\n",
        "\n",
        "Similar to the above problem, this time again we randomly sample 20 fruits.\n",
        "\n",
        "**What is the probability that this time the sample contains 5 apples and 15 oranges?**\n",
        "\n",
        "Please note that this time the order of the fruits being picked does not matter."
      ]
    },
    {
      "cell_type": "code",
      "execution_count": 7,
      "metadata": {
        "colab": {
          "base_uri": "https://localhost:8080/"
        },
        "id": "lHrdfDP_l685",
        "outputId": "ba94ce91-aef8-48e2-c358-a4162fd2a5c3"
      },
      "outputs": [
        {
          "output_type": "stream",
          "name": "stdout",
          "text": [
            "prob of 5 apples 0.0\n"
          ]
        }
      ],
      "source": [
        "n_1 = 20     #fruits\n",
        "\n",
        "k_apple = 5       #nº de maçãs\n",
        "k_orange = 15          #nº de laranjas\n",
        "\n",
        "p = 0.6            #probabilidade de escoher maçãs\n",
        "\n",
        "prob_of_5_apples = binom.pmf(k_apple, n, p)\n",
        "\n",
        "print('prob of 5 apples',prob_of_5_apples)\n",
        "\n",
        "\n",
        "\n",
        "\n"
      ]
    },
    {
      "cell_type": "markdown",
      "metadata": {
        "id": "zofKupZZl686"
      },
      "source": [
        "In the lesson we also discussed CDF (cumulative distribution function). In the context of the above problem, **what is the probability that less than 5 fruits picked are apples?**\n",
        "\n",
        "Write the formula and calculate the probability below."
      ]
    },
    {
      "cell_type": "code",
      "execution_count": 9,
      "metadata": {
        "colab": {
          "base_uri": "https://localhost:8080/"
        },
        "id": "ng8jnbD7l687",
        "outputId": "72c43135-0ca4-42bd-d154-9a9b85389908"
      },
      "outputs": [
        {
          "output_type": "execute_result",
          "data": {
            "text/plain": [
              "0.00031703112116863004"
            ]
          },
          "metadata": {},
          "execution_count": 9
        }
      ],
      "source": [
        "# your code here\n",
        "n_1 = 20\n",
        "p = 0.6\n",
        "\n",
        "cumulative_prob = binom.cdf(4, n_1, p)\n",
        "\n",
        "cumulative_prob"
      ]
    },
    {
      "cell_type": "markdown",
      "metadata": {
        "id": "4_O-8jDjl688"
      },
      "source": [
        "**Plot the PDF (probability distributiom function) for the above binomial distribution.**\n",
        "\n",
        "*Hint: The range of x in a binomial distribution is from `0` to `n`.*"
      ]
    },
    {
      "cell_type": "code",
      "execution_count": 10,
      "metadata": {
        "colab": {
          "base_uri": "https://localhost:8080/",
          "height": 462
        },
        "id": "rizsXlZCl688",
        "outputId": "113cc224-1976-4abd-cf85-2f58fc915691"
      },
      "outputs": [
        {
          "output_type": "execute_result",
          "data": {
            "text/plain": [
              "<BarContainer object of 2 artists>"
            ]
          },
          "metadata": {},
          "execution_count": 10
        },
        {
          "output_type": "display_data",
          "data": {
            "text/plain": [
              "<Figure size 640x480 with 1 Axes>"
            ],
            "image/png": "[encoded data removed]"
          },
          "metadata": {}
        }
      ],
      "source": [
        "# your code here\n",
        "# Please label the axes and give a title to the plot\n",
        "\n",
        "apples = 5\n",
        "n_1 = 20\n",
        "p=0.6\n",
        "\n",
        "nº_apples = np.arange(0, n+1)\n",
        "\n",
        "pdf = binom.pmf(nº_apples, n_1, p)\n",
        "\n",
        "plt.bar(nº_apples, pdf)"
      ]
    },
    {
      "cell_type": "markdown",
      "metadata": {
        "id": "rygKiLJyl688"
      },
      "source": [
        "## Poisson Distribution\n",
        "\n",
        "In this challenge you are required to use the Math library in python to solve the problems.\n",
        "\n",
        "In the UEFA champions league tournament, the average number of goals scored in a match is 2.3.\n",
        "\n",
        "**What is the probability that the number of goals scored in a match is 5?**\n",
        "\n",
        "*Hint: Use the exp() in the math library*\n",
        "\n",
        "And to calculate the factorial, you can use the following code:\n",
        "\n",
        "```python\n",
        "import math\n",
        "math.factorial(n) # n is the number you want to find the factorial of\n",
        "```"
      ]
    },
    {
      "cell_type": "code",
      "execution_count": 11,
      "metadata": {
        "colab": {
          "base_uri": "https://localhost:8080/"
        },
        "id": "M7qZ_wGNl689",
        "outputId": "c00011c9-2ea1-4b3f-a328-9319e1e3af6b"
      },
      "outputs": [
        {
          "output_type": "execute_result",
          "data": {
            "text/plain": [
              "0.0537750255819468"
            ]
          },
          "metadata": {},
          "execution_count": 11
        }
      ],
      "source": [
        "# your code here\n",
        "import math\n",
        "\n",
        "mu = 2.3\n",
        "\n",
        "goals = 5\n",
        "\n",
        "poisson = (math.exp(-mu) * mu**goals) / math.factorial(goals)\n",
        "poisson"
      ]
    },
    {
      "cell_type": "markdown",
      "metadata": {
        "id": "GMAxTWqUl689"
      },
      "source": [
        "**Draw a poisson probability distribution plot for the number of goals to be between 0 to 10.**"
      ]
    },
    {
      "cell_type": "code",
      "execution_count": null,
      "metadata": {
        "id": "IxyMm--ql689"
      },
      "outputs": [],
      "source": [
        "# your code here\n",
        "# Please label the axes and give a title to the plot\n"
      ]
    }
  ],
  "metadata": {
    "kernelspec": {
      "display_name": "Python 3",
      "language": "python",
      "name": "python3"
    },
    "language_info": {
      "codemirror_mode": {
        "name": "ipython",
        "version": 3
      },
      "file_extension": ".py",
      "mimetype": "text/x-python",
      "name": "python",
      "nbconvert_exporter": "python",
      "pygments_lexer": "ipython3",
      "version": "3.7.3"
    },
    "colab": {
      "provenance": []
    }
  },
  "nbformat": 4,
  "nbformat_minor": 0
}